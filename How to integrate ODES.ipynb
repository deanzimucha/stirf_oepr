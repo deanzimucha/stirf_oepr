{
 "cells": [
  {
   "cell_type": "markdown",
   "metadata": {},
   "source": [
    "# Numerical integration of ordinary differential equations\n",
    "\n",
    "##1. Introduction\n",
    "Attainable Region theory often deals with the integration of a system of ordinary differential equations (ODEs). These systems arise when Plug Flow Reactors (PFRs) and Differential Side-stream Reactors (DSRs) are employed in the construction of the AR. Due to the non-linear nature of these functions, as well as the relatively large number of simultaneous equations that must be solved for the systems of interest, we must often rely on *numerical* integration to compute our solutions. \n",
    "\n",
    "Below, we provide a basic set of instructions for how one might integrate a system of ODEs on a computer. These results may then be used to develop a graph for Attainable Regions analysis. The Python programming language is used for demonstration, however other numerical environments such, as MATLAB, follow a similar procedure.\n",
    "\n",
    "##Python and SciPy\n",
    "SciPy is a collection of open-source Python packages and software for mathematical and scientific computing. Specific routines contained within the SciPy package allow for the numerical integratation of ODEs. Instructions on how to obtain and install SciPy can be found on their website:\n",
    "- http://www.scipy.org/\n",
    "\n",
    "Alternatively, the Anaconda disribution incorporates a number of useful Python software including SciPy, into a single installable package. This makes it convenient to begin working on problems quickly without the need to download, install and configure multiple Python packages, which may also require the installation of additional packages (dependencies).\n",
    "- http://continuum.io/downloads\n",
    "\n",
    "##2. Example system\n",
    "\n",
    "Suppose that the following system of differential equations is to be integrated: \n",
    "\n",
    "$$ \\begin{align}\n",
    "\\frac{\\mathrm{d}y_{1}}{\\mathrm{dt}} &=y_{3} \\\\\n",
    "\\frac{\\mathrm{d}y_{2}}{\\mathrm{dt}} &=\\sin\\left(\\mathrm{t}y_{1}\\right) \\\\\n",
    "\\frac{\\mathrm{d}y_{3}}{\\mathrm{dt}} &=\\mathrm{t}\n",
    "\\end{align}\n",
    "$$\n",
    "\n",
    "The above system involves three ordinary differential equations and is a function of all three variables as well as the integration parameter t.\n",
    "\n",
    "### 2.1 Importing SciPy\n",
    "Once SciPy has been installed, we can import Scipy using the `import` command:"
   ]
  },
  {
   "cell_type": "code",
   "execution_count": 1,
   "metadata": {
    "collapsed": true
   },
   "outputs": [],
   "source": [
    "import scipy as sp"
   ]
  },
  {
   "cell_type": "markdown",
   "metadata": {},
   "source": [
    "A number of sub-packages are contained within SciPy. The `odeint()` function is employed to integrate ODEs specifically. This function is contained in the `integrate` package. The following Python code imports the `odeint()` function from the `scipy.integrate` package. "
   ]
  },
  {
   "cell_type": "code",
   "execution_count": 2,
   "metadata": {
    "collapsed": true
   },
   "outputs": [],
   "source": [
    "from scipy.integrate import odeint"
   ]
  },
  {
   "cell_type": "markdown",
   "metadata": {},
   "source": [
    "Futher information about this function can be found at \n",
    "\n",
    "- http://docs.scipy.org/doc/scipy-0.15.1/reference/generated/scipy.integrate.odeint.html"
   ]
  },
  {
   "cell_type": "markdown",
   "metadata": {},
   "source": [
    "###2.2 Defining the system\n",
    "We define our system as a Python function involving two parameters: \n",
    "1. A vector $\\mathbf{y}=\\begin{bmatrix}y_{1} & y_{2} & y_{3}\\end{bmatrix}^{T}$ containing the state variables \n",
    "2. The integration parameter t"
   ]
  },
  {
   "cell_type": "code",
   "execution_count": 3,
   "metadata": {
    "collapsed": true
   },
   "outputs": [],
   "source": [
    "def dy_fn(y, t):\n",
    "    y1 = y[0]\n",
    "    y2 = y[1]\n",
    "    y3 = y[2]\n",
    "    \n",
    "    dy1 = y3\n",
    "    dy2 = sp.sin(t*y1)\n",
    "    dy3 = t\n",
    "    \n",
    "    dydt = [dy1, dy2, dy3]\n",
    "    return dydt"
   ]
  },
  {
   "cell_type": "markdown",
   "metadata": {
    "collapsed": true
   },
   "source": [
    "The function is named `dy_fn(y, t)` and returns a vector containing the three differential equations. By convention, the function to be integrated must define the state variables as its first argument, and the integration parameter as its second argument.\n",
    "\n",
    "###2.3 Initial conditions\n",
    "A solution to this system is obtained by specifiying an initial condition, $\\mathbf{y}_0$, and an integration range. An initial condition of \n",
    "$$ \\mathbf{y}_{0}=\\begin{bmatrix}1.0\\\\\n",
    "1.0\\\\\n",
    "1.0\n",
    "\\end{bmatrix}\n",
    " $$\n",
    " \n",
    "and an integration range of $ 0.0\\leq\\mathrm{t}\\leq4.0 $ is used here for demonstration purposes."
   ]
  },
  {
   "cell_type": "code",
   "execution_count": 4,
   "metadata": {
    "collapsed": false
   },
   "outputs": [],
   "source": [
    "y0 = [1.0, 1.0, 1.0]\n",
    "\n",
    "t0 = 0\n",
    "tf = 4\n",
    "N = 200    #number of time points\n",
    "ts = sp.linspace(t0,tf,N)"
   ]
  },
  {
   "cell_type": "markdown",
   "metadata": {},
   "source": [
    "The SciPy function `linspace()` is used to generate an array of `N` evenly spaced time points between 0.0 and 4.0 for which y will be solved for. Next, the function is integrated by calling `odeint()` with the function to be integrated as its first argument, the initial conditions vector `y0` as the second arguement and the time points at which the function to be evaluated at as the third arguement."
   ]
  },
  {
   "cell_type": "code",
   "execution_count": 5,
   "metadata": {
    "collapsed": false
   },
   "outputs": [],
   "source": [
    "ys = odeint(dy_fn,y0,ts)"
   ]
  },
  {
   "cell_type": "markdown",
   "metadata": {},
   "source": [
    "It is also possible to define integration options in more detail by passing additional arguments to `odeint()`. These details can be found on the odeint reference domcumentation online, using the link provided above.\n",
    "\n",
    "The result of the integration is stored in a $N \\times3$ matrix named `ys`. The columns of `ys` correspond to $y_1$, $y_2$ and $y_3$, respectively, whilst the number of rows in `ys` is equal to the entries in variable `ts`. Hence, each row in `ys` corresponds to the y values of the system evaluated at that time. The results may then be plotted using `matplotlib`\n",
    "\n",
    "### 2.4 Plotting in matplotlib\n",
    "Matplotlb is a Python plotting library that is bundled with SciPy. Specifically `pyplot`, a sub-package of the `matplotlib` package, is used to plot two dimensional plots. The choice of function names and calling convention is very similar to that of MATLAB. \n",
    "\n",
    "- http://matplotlib.org/index.html\n",
    "\n",
    "Importing `pyplot` from matplotlib is done below"
   ]
  },
  {
   "cell_type": "code",
   "execution_count": 6,
   "metadata": {
    "collapsed": true
   },
   "outputs": [],
   "source": [
    "import matplotlib.pyplot as plt\n",
    "%matplotlib inline"
   ]
  },
  {
   "cell_type": "markdown",
   "metadata": {},
   "source": [
    "For IPython notebooks specifically, including `%matplotlib inline` will allow for figures to be displayed inside the notebook rather than in a separate window."
   ]
  },
  {
   "cell_type": "code",
   "execution_count": 7,
   "metadata": {
    "collapsed": false
   },
   "outputs": [
    {
     "data": {
      "image/png": "[encoded data removed]",
      "text/plain": [
       "<matplotlib.figure.Figure at 0x11b267b8>"
      ]
     },
     "metadata": {},
     "output_type": "display_data"
    }
   ],
   "source": [
    "plt.figure()\n",
    "plt.hold(True)\n",
    "\n",
    "line1, = plt.plot(ts,ys[:,0], 'b:')\n",
    "line2, = plt.plot(ts,ys[:,1], 'r-')\n",
    "line3, = plt.plot(ts,ys[:,2], 'k--')\n",
    "\n",
    "plt.legend([line1, line2, line3], ['$y_1$', '$y_2$', '$y_3$'], loc=2)\n",
    "plt.xlabel('t')\n",
    "plt.ylabel('y')\n",
    "plt.show()"
   ]
  },
  {
   "cell_type": "markdown",
   "metadata": {},
   "source": [
    "Alternatively, we could plot $y_1$ against $y_2$ in the phase plane to gain an understanding of how $y_2$ varies with $y_1$:"
   ]
  },
  {
   "cell_type": "code",
   "execution_count": 8,
   "metadata": {
    "collapsed": false
   },
   "outputs": [
    {
     "data": {
      "image/png": "[encoded data removed]",
      "text/plain": [
       "<matplotlib.figure.Figure at 0x11b26160>"
      ]
     },
     "metadata": {},
     "output_type": "display_data"
    }
   ],
   "source": [
    "plt.figure()\n",
    "plt.hold(True)\n",
    "\n",
    "plt.plot(ys[:,0],ys[:,1], 'b-')\n",
    "\n",
    "plt.xlabel('y1')\n",
    "plt.ylabel('y2')\n",
    "plt.show()"
   ]
  },
  {
   "cell_type": "markdown",
   "metadata": {
    "collapsed": true
   },
   "source": [
    "##3. A motivating example from Attainable Regions\n",
    "\n",
    "###3.1 The van de Vusse system\n",
    "The following reaction shows a system of three independent reactions involving four components A, B, C and D:\n",
    "\n",
    "$$ \\mathrm{A}\t\\rightarrow\t\\mathrm{B}\\rightarrow\\mathrm{C} \\\\\n",
    "2\\mathrm{A}\t\\rightarrow\t\\mathrm{D}\n",
    " $$\n",
    " \n",
    "This system, often referred to as the van de Vusse system, is common in Attainable Regions theory. Species reaction rates for the system as assumed to obey mass action kinetics, that is, the component rate functions may be expressed as follows:\n",
    "\n",
    "$$ \\begin{align}\n",
    "r_{A} &=-k_{1}c_{A}-2k_{3}c_{A}^{2} \\\\\n",
    "r_{B} &=k_{1}c_{A}-k_{2}c_{B} \\\\\n",
    "r_{C} &=k_{2}c_{B} \\\\\n",
    "r_{D} &=k_{3}c_{A}^{2}\n",
    "\\end{align}\n",
    "$$\n",
    "\n",
    "where $k_1 = 1 \\,\\mathrm{s^{-1}}$, $k_2 = 1 \\,\\mathrm{s^{-1}}$ and $k_3 = 10 \\,\\mathrm{L.mol^{-1}.s^{-1}}$ are rate constants.\n",
    "\n",
    "Suppose that we wish to determine the concentration profiles for this system in  a PFR with a residence time of $\\tau = 10 \\, \\mathrm{s}$. The feed concentration to the PFR is is assumed to be pure in A. The concentration of A is assumed to be 1.0 mol/L The initial condition of the PFR may then be expressed as:\n",
    "\n",
    "$$\n",
    "\\mathbf{C_{f}}=\\begin{bmatrix}c_{A}^{0}\\\\\n",
    "c_{B}^{0}\\\\\n",
    "c_{C}^{0}\\\\\n",
    "c_{D}^{0}\n",
    "\\end{bmatrix}=\\begin{bmatrix}1.0\\\\\n",
    "0.0\\\\\n",
    "0.0\\\\\n",
    "0.0\n",
    "\\end{bmatrix}\n",
    "$$\n",
    "\n",
    "###3.3 PFR equation\n",
    "The PFR equation is given in vector form by\n",
    "\n",
    "$$ \\frac{\\mathrm{d}\\mathbf{C}}{\\mathrm{d}\\tau}=\\mathbf{r}\\left(\\mathbf{C}\\right) $$\n",
    "\n",
    "where $\\mathbf{r}\\left(\\mathbf{C}\\right)$ is a vector containing the component rate expressions:\n",
    "\n",
    "$$ \\mathbf{r}\\left(\\mathbf{C}\\right)=\\begin{bmatrix}r_{A}\\\\\n",
    "r_{B}\\\\\n",
    "r_{C}\\\\\n",
    "r_{D}\n",
    "\\end{bmatrix}$$\n",
    "\n",
    "Hence, the solution of the PFR equation involves the integration of a system of ordinary differential equations. The solution method described above is thus useful for computing species concentrations in the PFR over time."
   ]
  },
  {
   "cell_type": "markdown",
   "metadata": {},
   "source": [
    "###3.2 Defining the van de Vusse rate vector\n",
    "We begin by defining the species reaction rates for the van de Vusse system as a Python function that returns a vector (in this instance a Python array) containing $r_A$, $r_B$, $r_C$ and $r_D$."
   ]
  },
  {
   "cell_type": "code",
   "execution_count": 9,
   "metadata": {
    "collapsed": true
   },
   "outputs": [],
   "source": [
    "def vdv_rate(C,t):\n",
    "    cA = C[0]\n",
    "    cB = C[1]\n",
    "    \n",
    "    k1 = 1.0\n",
    "    k2 = 1.0\n",
    "    k3 = 10.0\n",
    "    \n",
    "    rA = -k1*cA - 2.0*cA**2\n",
    "    rB = k1*cA - k2*cB\n",
    "    rC = k2*cB\n",
    "    rD = k3*cA**2\n",
    "    \n",
    "    return [rA, rB, rC, rD]"
   ]
  },
  {
   "cell_type": "markdown",
   "metadata": {},
   "source": [
    "###3.3 Initial conditions\n",
    "Next, initial conditions and integration parameters are specified. For the PFR, the initial conditions are simply the feed concentration to the PFR"
   ]
  },
  {
   "cell_type": "code",
   "execution_count": 10,
   "metadata": {
    "collapsed": true
   },
   "outputs": [],
   "source": [
    "Cf = [1.0, 0.0, 0.0, 0.0]\n",
    "#pfr_ts = sp.logspace(-3,1,100)\n",
    "pfr_ts = sp.linspace(0,10,100)"
   ]
  },
  {
   "cell_type": "markdown",
   "metadata": {},
   "source": [
    "We used a log spacing for the PFR becuase the concentrations often vary exponentially with time. Next, the function can be integrated"
   ]
  },
  {
   "cell_type": "code",
   "execution_count": 11,
   "metadata": {
    "collapsed": false
   },
   "outputs": [],
   "source": [
    "pfr_cs = odeint(vdv_rate,Cf,pfr_ts)"
   ]
  },
  {
   "cell_type": "markdown",
   "metadata": {},
   "source": [
    "This concentrations can now be plotted with matplotlib"
   ]
  },
  {
   "cell_type": "code",
   "execution_count": 12,
   "metadata": {
    "collapsed": false
   },
   "outputs": [
    {
     "data": {
      "image/png": "[encoded data removed]",
      "text/plain": [
       "<matplotlib.figure.Figure at 0x11b2add8>"
      ]
     },
     "metadata": {},
     "output_type": "display_data"
    }
   ],
   "source": [
    "plt.figure()\n",
    "plt.hold(True)\n",
    "\n",
    "lineA, = plt.plot(pfr_ts, pfr_cs[:,0], 'r-')\n",
    "lineB, = plt.plot(pfr_ts, pfr_cs[:,1], 'b-')\n",
    "lineC, = plt.plot(pfr_ts, pfr_cs[:,2], 'g:')\n",
    "lineD, = plt.plot(pfr_ts, pfr_cs[:,3], 'k--')\n",
    "\n",
    "plt.legend([lineA, lineB, lineC, lineD], ['A', 'B', 'C', 'D'], loc=5)\n",
    "plt.xlabel('PFR residence time')\n",
    "plt.ylabel('Species concentration')\n",
    "\n",
    "plt.show()"
   ]
  },
  {
   "cell_type": "markdown",
   "metadata": {},
   "source": [
    "Alternatively, we can plot pairs of concentrations, such as $c_A$ vs. $c_B$:"
   ]
  },
  {
   "cell_type": "code",
   "execution_count": 13,
   "metadata": {
    "collapsed": false
   },
   "outputs": [
    {
     "data": {
      "image/png": "[encoded data removed]",
      "text/plain": [
       "<matplotlib.figure.Figure at 0x1338b9e8>"
      ]
     },
     "metadata": {},
     "output_type": "display_data"
    }
   ],
   "source": [
    "plt.figure()\n",
    "\n",
    "plt.plot(pfr_cs[:,0], pfr_cs[:,1], 'r-')\n",
    "\n",
    "plt.xlabel('cA')\n",
    "plt.ylabel('cB')\n",
    "\n",
    "plt.show()"
   ]
  },
  {
   "cell_type": "markdown",
   "metadata": {},
   "source": [
    "or, perhaps, $c_C$ vs. $c_D$:"
   ]
  },
  {
   "cell_type": "code",
   "execution_count": 14,
   "metadata": {
    "collapsed": false
   },
   "outputs": [
    {
     "data": {
      "image/png": "[encoded data removed]",
      "text/plain": [
       "<matplotlib.figure.Figure at 0x13644c88>"
      ]
     },
     "metadata": {},
     "output_type": "display_data"
    }
   ],
   "source": [
    "plt.figure()\n",
    "\n",
    "plt.plot(pfr_cs[:,2], pfr_cs[:,3], 'k-')\n",
    "\n",
    "plt.xlabel('cC')\n",
    "plt.ylabel('cD')\n",
    "\n",
    "plt.show()"
   ]
  }
 ],
 "metadata": {
  "kernelspec": {
   "display_name": "Python 2",
   "language": "python",
   "name": "python2"
  },
  "language_info": {
   "codemirror_mode": {
    "name": "ipython",
    "version": 2
   },
   "file_extension": ".py",
   "mimetype": "text/x-python",
   "name": "python",
   "nbconvert_exporter": "python",
   "pygments_lexer": "ipython2",
   "version": "2.7.10"
  }
 },
 "nbformat": 4,
 "nbformat_minor": 0
}
